{
  "nbformat": 4,
  "nbformat_minor": 0,
  "metadata": {
    "colab": {
      "provenance": [],
      "collapsed_sections": [
        "45aXbgUrKplk",
        "xKAUd0sTKpl5",
        "2U7uKqZHKpmS",
        "xnhkPfgXKpma",
        "0PB8bLKKLFDJ",
        "ipkDs8EKMUaC"
      ],
      "include_colab_link": true
    },
    "kernelspec": {
      "name": "python3",
      "display_name": "Python 3"
    },
    "language_info": {
      "name": "python"
    }
  },
  "cells": [
    {
      "cell_type": "markdown",
      "metadata": {
        "id": "view-in-github",
        "colab_type": "text"
      },
      "source": [
        "<a href=\"https://colab.research.google.com/github/davidghg/DAVEOSPythonStartUpTeens/blob/main/startupteens_complete.ipynb\" target=\"_parent\"><img src=\"https://colab.research.google.com/assets/colab-badge.svg\" alt=\"Open In Colab\"/></a>"
      ]
    },
    {
      "source": [
        "# Variablen"
      ],
      "cell_type": "markdown",
      "metadata": {
        "id": "45aXbgUrKplk"
      }
    },
    {
      "source": [
        "## Integer"
      ],
      "cell_type": "markdown",
      "metadata": {
        "id": "xKAUd0sTKpl5"
      }
    },
    {
      "cell_type": "code",
      "execution_count": null,
      "metadata": {
        "id": "5bBNxhXnKpmB"
      },
      "outputs": [],
      "source": [
        "# Integer\n",
        "beine = 4\n",
        "beine = int(4.6)\n",
        "print(beine)"
      ]
    },
    {
      "source": [
        "## Float"
      ],
      "cell_type": "markdown",
      "metadata": {
        "id": "2U7uKqZHKpmS"
      }
    },
    {
      "cell_type": "code",
      "execution_count": null,
      "metadata": {
        "id": "tg8l0HifKpmX"
      },
      "outputs": [],
      "source": [
        "# Float\n",
        "groesse = 35.4\n",
        "breite = 21.9"
      ]
    },
    {
      "source": [
        "## String"
      ],
      "cell_type": "markdown",
      "metadata": {
        "id": "xnhkPfgXKpma"
      }
    },
    {
      "cell_type": "code",
      "execution_count": null,
      "metadata": {
        "id": "V9Bk327kKpmc"
      },
      "outputs": [],
      "source": [
        "# String\n",
        "farbe = 'Braun'"
      ]
    },
    {
      "source": [
        "# Mengen"
      ],
      "cell_type": "markdown",
      "metadata": {
        "id": "0PB8bLKKLFDJ"
      }
    },
    {
      "source": [
        "## Variablen"
      ],
      "cell_type": "markdown",
      "metadata": {
        "id": "wDkkREUILFDj"
      }
    },
    {
      "cell_type": "code",
      "execution_count": null,
      "metadata": {
        "id": "cUO4T-0lLFDr"
      },
      "outputs": [],
      "source": [
        "# Integer\n",
        "beine = 4\n",
        "\n",
        "# Float\n",
        "grosse = 35.4\n",
        "breite = 21.9\n",
        "\n",
        "# String\n",
        "farbe = 'Braun'\n",
        "label = \"Hund\""
      ]
    },
    {
      "source": [
        "## Sets"
      ],
      "cell_type": "markdown",
      "metadata": {
        "id": "0i3dx_5-LFDz"
      }
    },
    {
      "cell_type": "code",
      "execution_count": null,
      "metadata": {
        "id": "jDtBMf4fLFD1"
      },
      "outputs": [],
      "source": [
        "satz = {beine, grosse, breite, farbe, label}\n",
        "satz = {4, 35.4, 21.9, \"Braun\", \"Hund\"}\n",
        "feature = {4, 35.4, 21.9, \"Braun\", \"Hund\"}"
      ]
    },
    {
      "source": [
        "## Tupel"
      ],
      "cell_type": "markdown",
      "metadata": {
        "id": "eBbRHP10LFD3"
      }
    },
    {
      "cell_type": "code",
      "execution_count": null,
      "metadata": {
        "id": "jH3mYPPVLFD5"
      },
      "outputs": [],
      "source": [
        "tupel = (4, 35.4, 21.9, \"Braun\", \"Hund\")"
      ]
    },
    {
      "source": [
        "## Listen"
      ],
      "cell_type": "markdown",
      "metadata": {
        "id": "SAR4TFkZLFD6"
      }
    },
    {
      "cell_type": "code",
      "execution_count": null,
      "metadata": {
        "id": "gEkzQdw_LFD8"
      },
      "outputs": [],
      "source": [
        "liste = [4, 35.4, 21.9, \"Braun\", \"Hund\"]"
      ]
    },
    {
      "source": [
        "## Dictionaries"
      ],
      "cell_type": "markdown",
      "metadata": {
        "id": "bqT2_gxFLFEB"
      }
    },
    {
      "cell_type": "code",
      "execution_count": null,
      "metadata": {
        "id": "wNLTVudVLFED"
      },
      "outputs": [],
      "source": [
        "# Dictionaries\n",
        "data = {\n",
        "    'beine': beine,\n",
        "    'grosse': grosse,\n",
        "    'breite': breite,\n",
        "    'farbe': farbe,\n",
        "    'label': label\n",
        "}"
      ]
    },
    {
      "cell_type": "code",
      "execution_count": null,
      "metadata": {
        "id": "7r7RMvbnLFEH"
      },
      "outputs": [],
      "source": [
        "# Doppelte Werte\n",
        "data = {\n",
        "   'beine': 4,\n",
        "   'grosse': 35.4,\n",
        "   'breite': 21.9,\n",
        "   'farbe': \"Braun\",\n",
        "   'label': \"Hund\",\n",
        "   'breite': 28.3\n",
        "}"
      ]
    },
    {
      "cell_type": "code",
      "execution_count": null,
      "metadata": {
        "id": "GICIoHP8LFEJ"
      },
      "outputs": [],
      "source": [
        "# Auslesen\n",
        "print(data['beine'])"
      ]
    },
    {
      "source": [
        "## Mengen von Mengen"
      ],
      "cell_type": "markdown",
      "metadata": {
        "id": "gs0cqI-iLFEK"
      }
    },
    {
      "cell_type": "code",
      "execution_count": null,
      "metadata": {
        "id": "nMBO7UZdLFEL"
      },
      "outputs": [],
      "source": [
        "# Listen erstellen\n",
        "beine = [4, 4, 4, 4, 4]\n",
        "grosse = [35.4, 28.6, 32.7, 23.9, 45.6]\n",
        "breite = [21.9, 18.7, 16.4, 15.8, 25.6]\n",
        "farbe = [\"Braun\", \"Weiß\", \"Schwarz\", \"Beige\", \"Braun\"]\n",
        "label = [\"Hund\", \"Hund\", \"Hund\", \"kein Hund\", \"Hund\"]"
      ]
    },
    {
      "cell_type": "code",
      "execution_count": null,
      "metadata": {
        "id": "5UIkV0BmLFEM"
      },
      "outputs": [],
      "source": [
        "data = {\n",
        "    'beine': beine,\n",
        "    'grosse': grosse,\n",
        "    'breite': breite,\n",
        "    'farbe': farbe,\n",
        "    'label': label\n",
        "}"
      ]
    },
    {
      "cell_type": "code",
      "execution_count": null,
      "metadata": {
        "id": "q-fvFAskLFEO"
      },
      "outputs": [],
      "source": [
        "print(data['breite'])"
      ]
    },
    {
      "source": [
        "# Numpy"
      ],
      "cell_type": "markdown",
      "metadata": {
        "id": "ipkDs8EKMUaC"
      }
    },
    {
      "cell_type": "code",
      "execution_count": null,
      "metadata": {
        "id": "QLIltnGWMUaN"
      },
      "outputs": [],
      "source": [
        "data = {\n",
        "   'beine': [4, 4, 4],\n",
        "   'groesse': [35.4, 28.6, 32.7],\n",
        "   'breite': [21.9, 18.7, 16.4],\n",
        "   'farbe': [\"Braun\", \"Schwarz\", \"Beige\"],\n",
        "   'label': [\"Hund\", \"nicht Hund\", \"Hund\"]\n",
        "}"
      ]
    },
    {
      "cell_type": "code",
      "execution_count": null,
      "metadata": {
        "id": "8nKDnye-MUaY"
      },
      "outputs": [],
      "source": [
        "beine = [4, 4, 4, 4, 4]\n",
        "groesse = [35.4, 28.6, 32.7, 23.9, 45.6]\n",
        "breite = [21.9, 18.7, 16.4, 15.8, 25.6]\n",
        "farbe = [\"Braun\", \"Weiß\", \"Schwarz\", \"Beige\", \"Braun\"]\n",
        "label = [\"Hund\", \"nicht Hund\", \"Hund\", \"nicht Hund\", \"Hund\"]"
      ]
    },
    {
      "cell_type": "code",
      "execution_count": null,
      "metadata": {
        "id": "fMk0acl6MUad"
      },
      "outputs": [],
      "source": [
        "farbe = [1, \"Weiß\", \"Schwarz\", \"Beige\", 1]\n",
        "farbe = [1, 2, \"Schwarz\", \"Beige\", 1]\n",
        "farbe = [1, 2, 3, \"Beige\", 1]\n",
        "farbe = [1, 2, 3, 4, 1]\n",
        "label = [1, \"nicht Hund\", 1, \"nicht Hund\", 1]"
      ]
    },
    {
      "cell_type": "code",
      "execution_count": null,
      "metadata": {
        "id": "HzCdGBW8MUaf"
      },
      "outputs": [],
      "source": [
        "beine = [4, 4, 4, 4, 4]\n",
        "groesse = [35.4, 28.6, 32.7, 23.9, 45.6]\n",
        "breite = [21.9, 18.7, 16.4, 15.8, 25.6]\n",
        "label = [1, 0, 1, 0, 1]"
      ]
    },
    {
      "cell_type": "code",
      "execution_count": null,
      "metadata": {
        "id": "B4WQyGxzMUai"
      },
      "outputs": [],
      "source": [
        "data = {\n",
        "   'beine': [4, 4, 4, 4, 4],\n",
        "   'groesse': [35.4, 28.6, 32.7, 23.9, 45.6],\n",
        "   'breite': [21.9, 18.7, 16.4, 15.8, 25.6],\n",
        "   'label': [1, 0, 1, 0, 1]\n",
        "}"
      ]
    },
    {
      "cell_type": "code",
      "execution_count": null,
      "metadata": {
        "id": "QpTZ-UeBMUak"
      },
      "outputs": [],
      "source": [
        "import numpy as np"
      ]
    },
    {
      "cell_type": "code",
      "execution_count": null,
      "metadata": {
        "id": "tIE7M-daMUam"
      },
      "outputs": [],
      "source": [
        "beine = np.array([4, 4, 4, 4, 4])\n",
        "groesse = np.array([35.4, 28.6, 32.7, 23.9, 45.6])\n",
        "breite = np.array([21.9, 18.7, 16.4, 15.8, 25.6])\n",
        "label = np.array([1, 0, 1, 0, 1])"
      ]
    },
    {
      "cell_type": "code",
      "execution_count": null,
      "metadata": {
        "id": "mAz3kCYvMUao",
        "outputId": "f80f99b2-0a44-40c2-9dac-e2828ffb8abe"
      },
      "outputs": [
        {
          "output_type": "stream",
          "name": "stdout",
          "text": [
            "[35.4 28.6 32.7 23.9 45.6]\n[35.4 28.6 32.7 23.9 45.6]\n"
          ]
        }
      ],
      "source": [
        "# Mit der eckigen Klammer (als Liste) sieht es so aus:\n",
        "print(np.array([35.4, 28.6, 32.7, 23.9, 45.6]))\n",
        "\n",
        "# Und als Tupel genau gleich:\n",
        "print(np.array((35.4, 28.6, 32.7, 23.9, 45.6)))"
      ]
    },
    {
      "cell_type": "code",
      "execution_count": null,
      "metadata": {
        "id": "sHmCyDa7MUau",
        "outputId": "9d6dd20d-d6cf-4a4c-e445-0cfd0eb9ee53"
      },
      "outputs": [
        {
          "output_type": "execute_result",
          "data": {
            "text/plain": [
              "(5,)"
            ]
          },
          "metadata": {},
          "execution_count": 9
        }
      ],
      "source": [
        "beine = np.array(data['beine'])\n",
        "groesse = np.array(data['groesse'])\n",
        "breite = np.array(data['breite'])\n",
        "label = np.array(data['label'])\n",
        "label.shape"
      ]
    },
    {
      "cell_type": "code",
      "execution_count": null,
      "metadata": {
        "id": "nqTw8PSjMUaw",
        "outputId": "f32c8d56-9145-4323-ea0f-009e6db2a63b"
      },
      "outputs": [
        {
          "output_type": "stream",
          "name": "stdout",
          "text": [
            "[21.9 18.7 16.4 15.8 25.6]\n"
          ]
        }
      ],
      "source": [
        "print(breite)"
      ]
    },
    {
      "cell_type": "code",
      "execution_count": null,
      "metadata": {
        "id": "u-E9MDfEMUax"
      },
      "outputs": [],
      "source": [
        "data_np = np.array(data)"
      ]
    },
    {
      "cell_type": "code",
      "execution_count": null,
      "metadata": {
        "id": "HNaOjiuaMUaz",
        "outputId": "6dc11b6a-431b-4003-8fcc-26477bb87206"
      },
      "outputs": [
        {
          "output_type": "stream",
          "name": "stdout",
          "text": [
            "[[ 4.   4.   4.   4.   4. ]\n [35.4 28.6 32.7 23.9 45.6]\n [21.9 18.7 16.4 15.8 25.6]]\n(3, 5)\n"
          ]
        }
      ],
      "source": [
        "feature = np.array([data['beine'], data['groesse'], data['breite']])\n",
        "print(feature)\n",
        "print(feature.shape)"
      ]
    },
    {
      "cell_type": "code",
      "execution_count": null,
      "metadata": {
        "id": "bIfowbfEMUa1",
        "outputId": "a70d1568-3606-4e1f-b7c5-c84eb828498a"
      },
      "outputs": [
        {
          "output_type": "stream",
          "name": "stdout",
          "text": [
            "[[ 4.  35.4 21.9]\n [ 4.  28.6 18.7]\n [ 4.  32.7 16.4]\n [ 4.  23.9 15.8]\n [ 4.  45.6 25.6]]\n"
          ]
        }
      ],
      "source": [
        "# Zeilen und Spalten tauschen\n",
        "print(feature.T)"
      ]
    }
  ]
}